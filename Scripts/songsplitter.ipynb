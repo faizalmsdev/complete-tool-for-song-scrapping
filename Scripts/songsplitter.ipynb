{
 "cells": [
  {
   "cell_type": "code",
   "execution_count": 1,
   "id": "35309634",
   "metadata": {},
   "outputs": [
    {
     "name": "stdout",
     "output_type": "stream",
     "text": [
      "✅ Found 529 audio files.\n",
      "📦 Moved 100 files to C:\\Users\\faiza\\Music\\scrape songs\\spotify_download_20250724_113843\\Top tamil songs\\batch_1\n",
      "📦 Moved 100 files to C:\\Users\\faiza\\Music\\scrape songs\\spotify_download_20250724_113843\\Top tamil songs\\batch_2\n",
      "📦 Moved 100 files to C:\\Users\\faiza\\Music\\scrape songs\\spotify_download_20250724_113843\\Top tamil songs\\batch_3\n",
      "📦 Moved 100 files to C:\\Users\\faiza\\Music\\scrape songs\\spotify_download_20250724_113843\\Top tamil songs\\batch_4\n",
      "📦 Moved 100 files to C:\\Users\\faiza\\Music\\scrape songs\\spotify_download_20250724_113843\\Top tamil songs\\batch_5\n",
      "📦 Moved 29 files to C:\\Users\\faiza\\Music\\scrape songs\\spotify_download_20250724_113843\\Top tamil songs\\batch_6\n",
      "✅ Done splitting files.\n"
     ]
    }
   ],
   "source": [
    "import os\n",
    "import shutil\n",
    "\n",
    "def split_audio_files(folder_path, batch_size=100):\n",
    "    # Make sure the folder exists\n",
    "    if not os.path.isdir(folder_path):\n",
    "        print(f\"❌ Folder not found: {folder_path}\")\n",
    "        return\n",
    "\n",
    "    # Get all audio files (filter by common extensions)\n",
    "    audio_extensions = ('.mp3', '.wav', '.aac', '.flac', '.ogg', '.m4a')\n",
    "    audio_files = [f for f in os.listdir(folder_path) if f.lower().endswith(audio_extensions)]\n",
    "\n",
    "    total_files = len(audio_files)\n",
    "    print(f\"✅ Found {total_files} audio files.\")\n",
    "\n",
    "    # Sort files for consistency\n",
    "    audio_files.sort()\n",
    "\n",
    "    for i in range(0, total_files, batch_size):\n",
    "        batch_number = (i // batch_size) + 1\n",
    "        batch_folder = os.path.join(folder_path, f\"batch_{batch_number}\")\n",
    "        os.makedirs(batch_folder, exist_ok=True)\n",
    "\n",
    "        # Get the current batch files\n",
    "        batch_files = audio_files[i:i+batch_size]\n",
    "\n",
    "        for file_name in batch_files:\n",
    "            src = os.path.join(folder_path, file_name)\n",
    "            dst = os.path.join(batch_folder, file_name)\n",
    "            shutil.move(src, dst)\n",
    "\n",
    "        print(f\"📦 Moved {len(batch_files)} files to {batch_folder}\")\n",
    "\n",
    "    print(\"✅ Done splitting files.\")\n",
    "\n",
    "# Example usage\n",
    "if __name__ == \"__main__\":\n",
    "    folder_path = input(\"Enter the path to the folder with audio files: \").strip()\n",
    "    split_audio_files(folder_path)\n"
   ]
  },
  {
   "cell_type": "code",
   "execution_count": 2,
   "id": "c2495a3d",
   "metadata": {},
   "outputs": [
    {
     "name": "stdout",
     "output_type": "stream",
     "text": [
      "📁 Found 6 batch folders to merge.\n",
      "✅ Merged 529 files into C:\\Users\\faiza\\Music\\scrape songs\\spotify_download_20250724_113843\\Top tamil songs\\merged_output\n"
     ]
    }
   ],
   "source": [
    "import os\n",
    "import shutil\n",
    "\n",
    "def merge_batches(parent_folder, output_folder_name=\"merged_output\"):\n",
    "    if not os.path.isdir(parent_folder):\n",
    "        print(f\"❌ Folder not found: {parent_folder}\")\n",
    "        return\n",
    "\n",
    "    output_folder = os.path.join(parent_folder, output_folder_name)\n",
    "    os.makedirs(output_folder, exist_ok=True)\n",
    "\n",
    "    batch_folders = [f for f in os.listdir(parent_folder) if f.startswith(\"batch_\") and os.path.isdir(os.path.join(parent_folder, f))]\n",
    "    batch_folders.sort()\n",
    "\n",
    "    print(f\"📁 Found {len(batch_folders)} batch folders to merge.\")\n",
    "\n",
    "    file_count = 0\n",
    "    for batch_folder in batch_folders:\n",
    "        batch_path = os.path.join(parent_folder, batch_folder)\n",
    "        for file_name in os.listdir(batch_path):\n",
    "            src = os.path.join(batch_path, file_name)\n",
    "            dst = os.path.join(output_folder, file_name)\n",
    "\n",
    "            # If file with same name exists, rename to avoid overwrite\n",
    "            if os.path.exists(dst):\n",
    "                base, ext = os.path.splitext(file_name)\n",
    "                counter = 1\n",
    "                while os.path.exists(dst):\n",
    "                    dst = os.path.join(output_folder, f\"{base}_{counter}{ext}\")\n",
    "                    counter += 1\n",
    "\n",
    "            shutil.move(src, dst)\n",
    "            file_count += 1\n",
    "\n",
    "    print(f\"✅ Merged {file_count} files into {output_folder}\")\n",
    "\n",
    "# Example usage\n",
    "if __name__ == \"__main__\":\n",
    "    folder_path = input(\"Enter the path to the folder containing batch folders: \").strip()\n",
    "    merge_batches(folder_path)\n"
   ]
  }
 ],
 "metadata": {
  "kernelspec": {
   "display_name": "Python 3",
   "language": "python",
   "name": "python3"
  },
  "language_info": {
   "codemirror_mode": {
    "name": "ipython",
    "version": 3
   },
   "file_extension": ".py",
   "mimetype": "text/x-python",
   "name": "python",
   "nbconvert_exporter": "python",
   "pygments_lexer": "ipython3",
   "version": "3.12.3"
  }
 },
 "nbformat": 4,
 "nbformat_minor": 5
}
